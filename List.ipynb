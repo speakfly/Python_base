{
 "cells": [
  {
   "cell_type": "code",
   "execution_count": 1,
   "metadata": {},
   "outputs": [
    {
     "name": "stdout",
     "output_type": "stream",
     "text": [
      "[1, 2, 3, 4, 5, 6, 7, 8, 9, 10, 11]\n"
     ]
    }
   ],
   "source": [
    "# 在列表末尾添加元素\n",
    "\n",
    "motorcycles = [1, 2, 3, 4, 5, 6, 7, 8, 9, 10]\n",
    "motorcycles.append(11)\n",
    "print(motorcycles)"
   ]
  },
  {
   "cell_type": "code",
   "execution_count": 2,
   "metadata": {},
   "outputs": [
    {
     "name": "stdout",
     "output_type": "stream",
     "text": [
      "[0, 1, 2, 3, 4, 5, 6, 7, 8, 9, 10, 11]\n"
     ]
    }
   ],
   "source": [
    "# 在列表中插入元素\n",
    "\n",
    "motorcycles.insert(0, 0)\n",
    "print(motorcycles)"
   ]
  },
  {
   "cell_type": "code",
   "execution_count": 3,
   "metadata": {},
   "outputs": [
    {
     "name": "stdout",
     "output_type": "stream",
     "text": [
      "[1, 2, 3, 4, 5, 6, 7, 8, 9, 10, 11]\n"
     ]
    }
   ],
   "source": [
    "# 从列表中删除元素\n",
    "\n",
    "del motorcycles[0]\n",
    "print(motorcycles)"
   ]
  },
  {
   "cell_type": "code",
   "execution_count": 4,
   "metadata": {},
   "outputs": [
    {
     "name": "stdout",
     "output_type": "stream",
     "text": [
      "11\n",
      "[1, 2, 3, 4, 5, 6, 7, 8, 9, 10]\n",
      "1\n",
      "[2, 3, 4, 5, 6, 7, 8, 9, 10]\n"
     ]
    }
   ],
   "source": [
    "# 使用pop方法删除元素\n",
    "\n",
    "popped_motorcycle = motorcycles.pop()\n",
    "print(popped_motorcycle)\n",
    "print(motorcycles)\n",
    "\n",
    "first_owned = motorcycles.pop(0)\n",
    "print(first_owned)\n",
    "print(motorcycles)"
   ]
  },
  {
   "cell_type": "code",
   "execution_count": 6,
   "metadata": {},
   "outputs": [
    {
     "name": "stdout",
     "output_type": "stream",
     "text": [
      "[2, 3, 4, 5, 6, 7, 8, 9]\n"
     ]
    }
   ],
   "source": [
    "# 根据值删除元素\n",
    "\n",
    "motorcycles.remove(10)\n",
    "print(motorcycles)\n"
   ]
  },
  {
   "cell_type": "code",
   "execution_count": 8,
   "metadata": {},
   "outputs": [
    {
     "name": "stdout",
     "output_type": "stream",
     "text": [
      "['audi', 'bmw', 'subaru', 'topota']\n",
      "['topota', 'subaru', 'bmw', 'audi']\n"
     ]
    }
   ],
   "source": [
    "# 使用sort()对列表进行永久性排序\n",
    "\n",
    "cars = ['bmw', 'audi', 'topota', 'subaru']\n",
    "cars.sort()\n",
    "print(cars)\n",
    "\n",
    "\n",
    "cars = ['bmw', 'audi', 'topota', 'subaru']\n",
    "cars.sort(reverse=True)\n",
    "print(cars)"
   ]
  },
  {
   "cell_type": "code",
   "execution_count": 10,
   "metadata": {},
   "outputs": [
    {
     "name": "stdout",
     "output_type": "stream",
     "text": [
      "['audi', 'bmw', 'subaru', 'topota']\n",
      "['bmw', 'audi', 'topota', 'subaru']\n"
     ]
    }
   ],
   "source": [
    "# 使用sorted()方法临时排序\n",
    "cars = ['bmw', 'audi', 'topota', 'subaru']\n",
    "print(sorted(cars))\n",
    "print(cars)"
   ]
  },
  {
   "cell_type": "code",
   "execution_count": 12,
   "metadata": {},
   "outputs": [
    {
     "name": "stdout",
     "output_type": "stream",
     "text": [
      "['subaru', 'topota', 'audi', 'bmw']\n"
     ]
    }
   ],
   "source": [
    "# 倒序\n",
    "cars = ['bmw', 'audi', 'topota', 'subaru']\n",
    "cars.reverse()\n",
    "print(cars)"
   ]
  }
 ],
 "metadata": {
  "kernelspec": {
   "display_name": "Python 3",
   "language": "python",
   "name": "python3"
  },
  "language_info": {
   "codemirror_mode": {
    "name": "ipython",
    "version": 3
   },
   "file_extension": ".py",
   "mimetype": "text/x-python",
   "name": "python",
   "nbconvert_exporter": "python",
   "pygments_lexer": "ipython3",
   "version": "3.6.5"
  }
 },
 "nbformat": 4,
 "nbformat_minor": 2
}
