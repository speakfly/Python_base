{
 "cells": [
  {
   "cell_type": "code",
   "execution_count": 4,
   "metadata": {},
   "outputs": [
    {
     "name": "stdout",
     "output_type": "stream",
     "text": [
      "3.1415926535\n",
      "   8979323846\n",
      "   2643383279\n"
     ]
    }
   ],
   "source": [
    "# 读取整个文件\n",
    "\n",
    "with open('pi_digits.txt') as fp:\n",
    "    contents = fp.read()\n",
    "    print(contents)\n",
    "\n"
   ]
  },
  {
   "cell_type": "code",
   "execution_count": 7,
   "metadata": {},
   "outputs": [
    {
     "name": "stdout",
     "output_type": "stream",
     "text": [
      "3.1415926535\n",
      "   8979323846\n",
      "   2643383279\n",
      "['3.1415926535\\n', '   8979323846\\n', '   2643383279']\n"
     ]
    }
   ],
   "source": [
    "# 逐行读取\n",
    "\n",
    "with open('pi_digits.txt') as fp:\n",
    "    for line in fp:\n",
    "        print(line.rstrip())\n",
    "        \n",
    "with open('pi_digits.txt') as fp:\n",
    "    lines = fp.readlines()\n",
    "\n",
    "print(lines)"
   ]
  },
  {
   "cell_type": "code",
   "execution_count": 9,
   "metadata": {},
   "outputs": [],
   "source": [
    "# 写入空文件\n",
    "\n",
    "filename = \"programming.txt\"\n",
    "\n",
    "with open(filename, 'w') as fp:\n",
    "    fp.write(\"I love programming\")"
   ]
  }
 ],
 "metadata": {
  "kernelspec": {
   "display_name": "Python 3",
   "language": "python",
   "name": "python3"
  },
  "language_info": {
   "codemirror_mode": {
    "name": "ipython",
    "version": 3
   },
   "file_extension": ".py",
   "mimetype": "text/x-python",
   "name": "python",
   "nbconvert_exporter": "python",
   "pygments_lexer": "ipython3",
   "version": "3.6.5"
  }
 },
 "nbformat": 4,
 "nbformat_minor": 2
}
