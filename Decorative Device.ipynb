{
 "cells": [
  {
   "cell_type": "code",
   "execution_count": 5,
   "metadata": {},
   "outputs": [],
   "source": [
    "# 装饰器\n",
    "# 装饰器是可调用的对象， 其参数是另外一个函数（被装饰的函数）。 装饰器可能会处理被装饰器的函数，然后把它返回，或者将其替换成另外一个函数或可调对象\n",
    "\n",
    "# 假如有一个名为decorate 的装饰器\n",
    "# def decorate(func):\n",
    "#     def inner():\n",
    "#         pass\n",
    "#     return inner\n",
    "\n",
    "\n",
    "# 以下代码运行不了应为没有声明decorate 函数 \n",
    "@decorate\n",
    "def target():\n",
    "    print(\"running target()\")\n",
    "\n",
    "# 上述代码的效果与下述写法一样：\n",
    "\n",
    "def target():\n",
    "    print(\"running target()\")\n",
    "    \n",
    "target = decorate(target)\n"
   ]
  },
  {
   "cell_type": "code",
   "execution_count": 6,
   "metadata": {},
   "outputs": [
    {
     "name": "stdout",
     "output_type": "stream",
     "text": [
      "running inner()\n"
     ]
    }
   ],
   "source": [
    "# 简单应用装饰器\n",
    "\n",
    "# 声明装饰器\n",
    "def deco(func):\n",
    "    def inner():\n",
    "        print(\"running inner()\")\n",
    "    return inner\n",
    "\n",
    "# 使用装饰器\n",
    "\n",
    "@deco\n",
    "def target():\n",
    "    print(\"running target()\")\n",
    "    \n",
    "# 反正被装饰后的函数运行的都是 inner函数  例如运行 target() 实际运行的是 inner()\n",
    "\n",
    "target()"
   ]
  },
  {
   "cell_type": "code",
   "execution_count": 7,
   "metadata": {},
   "outputs": [
    {
     "name": "stdout",
     "output_type": "stream",
     "text": [
      "running register(<function f1 at 0x0000015163237158>)\n",
      "running register(<function f2 at 0x00000151632372F0>)\n",
      "running register(<function f3 at 0x0000015163237488>)\n",
      "running main()\n",
      "registry -> [<function f1 at 0x0000015163237158>, <function f2 at 0x00000151632372F0>, <function f3 at 0x0000015163237488>]\n",
      "running f1()\n",
      "running f2()\n",
      "running f3()\n"
     ]
    }
   ],
   "source": [
    "# 以下程序是测试 何时执行装饰器的\n",
    "\n",
    "registry = []\n",
    "\n",
    "def register(func):\n",
    "    print(\"running register(%s)\"%func)\n",
    "    registry.append(func)\n",
    "    return func\n",
    "\n",
    "@register\n",
    "def f1():\n",
    "    print(\"running f1()\")\n",
    "    \n",
    "@register\n",
    "def f2():\n",
    "    print(\"running f2()\")\n",
    "    \n",
    "@register\n",
    "def f3():\n",
    "    print(\"running f3()\")\n",
    "    \n",
    "def main():\n",
    "    print(\"running main()\")\n",
    "    print('registry ->', registry)\n",
    "    f1()\n",
    "    f2()\n",
    "    f3()\n",
    "    \n",
    "if __name__ == \"__main__\":\n",
    "    main()\n",
    "    \n",
    "# 装饰器在导入模块时立即执行，而被装饰的函数只在明确调用时运行"
   ]
  },
  {
   "cell_type": "code",
   "execution_count": null,
   "metadata": {},
   "outputs": [],
   "source": []
  }
 ],
 "metadata": {
  "kernelspec": {
   "display_name": "Python 3",
   "language": "python",
   "name": "python3"
  },
  "language_info": {
   "codemirror_mode": {
    "name": "ipython",
    "version": 3
   },
   "file_extension": ".py",
   "mimetype": "text/x-python",
   "name": "python",
   "nbconvert_exporter": "python",
   "pygments_lexer": "ipython3",
   "version": "3.6.5"
  }
 },
 "nbformat": 4,
 "nbformat_minor": 2
}
