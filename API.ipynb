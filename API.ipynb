{
 "cells": [
  {
   "cell_type": "code",
   "execution_count": 1,
   "metadata": {},
   "outputs": [
    {
     "name": "stdout",
     "output_type": "stream",
     "text": [
      "dict_keys(['total_count', 'incomplete_results', 'items'])\n"
     ]
    }
   ],
   "source": [
    "import requests\n",
    "\n",
    "url = 'https://api.github.com/search/repositories?q=language:python&sort=starts'\n",
    "\n",
    "r = requests.get(url)\n",
    "\n",
    "response_dict = r.json()\n",
    "\n",
    "print(response_dict.keys())"
   ]
  },
  {
   "cell_type": "code",
   "execution_count": 2,
   "metadata": {},
   "outputs": [
    {
     "name": "stdout",
     "output_type": "stream",
     "text": [
      "archive_url\n",
      "archived\n",
      "assignees_url\n",
      "blobs_url\n",
      "branches_url\n",
      "clone_url\n",
      "collaborators_url\n",
      "comments_url\n",
      "commits_url\n",
      "compare_url\n",
      "contents_url\n",
      "contributors_url\n",
      "created_at\n",
      "default_branch\n",
      "deployments_url\n",
      "description\n",
      "downloads_url\n",
      "events_url\n",
      "fork\n",
      "forks\n",
      "forks_count\n",
      "forks_url\n",
      "full_name\n",
      "git_commits_url\n",
      "git_refs_url\n",
      "git_tags_url\n",
      "git_url\n",
      "has_downloads\n",
      "has_issues\n",
      "has_pages\n",
      "has_projects\n",
      "has_wiki\n",
      "homepage\n",
      "hooks_url\n",
      "html_url\n",
      "id\n",
      "issue_comment_url\n",
      "issue_events_url\n",
      "issues_url\n",
      "keys_url\n",
      "labels_url\n",
      "language\n",
      "languages_url\n",
      "license\n",
      "merges_url\n",
      "milestones_url\n",
      "mirror_url\n",
      "name\n",
      "node_id\n",
      "notifications_url\n",
      "open_issues\n",
      "open_issues_count\n",
      "owner\n",
      "private\n",
      "pulls_url\n",
      "pushed_at\n",
      "releases_url\n",
      "score\n",
      "size\n",
      "ssh_url\n",
      "stargazers_count\n",
      "stargazers_url\n",
      "statuses_url\n",
      "subscribers_url\n",
      "subscription_url\n",
      "svn_url\n",
      "tags_url\n",
      "teams_url\n",
      "trees_url\n",
      "updated_at\n",
      "url\n",
      "watchers\n",
      "watchers_count\n"
     ]
    }
   ],
   "source": [
    "repo_dicts = response_dict['items']\n",
    "repo_dict = repo_dicts[0]\n",
    "\n",
    "for key in sorted(repo_dict.keys()):\n",
    "    print(key)"
   ]
  },
  {
   "cell_type": "code",
   "execution_count": null,
   "metadata": {},
   "outputs": [],
   "source": []
  }
 ],
 "metadata": {
  "kernelspec": {
   "display_name": "Python 3",
   "language": "python",
   "name": "python3"
  },
  "language_info": {
   "codemirror_mode": {
    "name": "ipython",
    "version": 3
   },
   "file_extension": ".py",
   "mimetype": "text/x-python",
   "name": "python",
   "nbconvert_exporter": "python",
   "pygments_lexer": "ipython3",
   "version": "3.6.5"
  }
 },
 "nbformat": 4,
 "nbformat_minor": 2
}
