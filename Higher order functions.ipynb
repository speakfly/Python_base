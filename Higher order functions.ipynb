{
 "cells": [
  {
   "cell_type": "code",
   "execution_count": 7,
   "metadata": {},
   "outputs": [
    {
     "name": "stdout",
     "output_type": "stream",
     "text": [
      "[1, 4, 9, 16, 25, 36, 49, 64, 81]\n"
     ]
    }
   ],
   "source": [
    "def f(x):\n",
    "    return x*x\n",
    "\n",
    "# map 将参数一个一个输入到函数里面  返回值是一个生成器  \n",
    "# 类似于这样定义\n",
    "def map_01(f, LIST):\n",
    "    for i in LIST:\n",
    "        yield f(i)\n",
    "        \n",
    "        \n",
    "r = map(f, [1, 2, 3, 4, 5, 6, 7, 8, 9])\n",
    "print(list(r))"
   ]
  },
  {
   "cell_type": "code",
   "execution_count": 12,
   "metadata": {},
   "outputs": [
    {
     "name": "stdout",
     "output_type": "stream",
     "text": [
      "25\n"
     ]
    }
   ],
   "source": [
    "from functools import reduce\n",
    "def add(x,y):\n",
    "    return x + y\n",
    "\n",
    "# reduce 将两个参数的返回值作为下一个的参数\n",
    "# 类似于这样定义\n",
    "def reduce_01(f, list_01):\n",
    "    list_02 = list_01[1:]\n",
    "    num = list_01[0]\n",
    "    for i in list_02:\n",
    "        num = f(num, i)\n",
    "    return num\n",
    "\n",
    "print(reduce(add, [1, 3, 5, 7, 9]))"
   ]
  },
  {
   "cell_type": "code",
   "execution_count": 15,
   "metadata": {},
   "outputs": [
    {
     "name": "stdout",
     "output_type": "stream",
     "text": [
      "1234\n"
     ]
    }
   ],
   "source": [
    "# lambda 参数: 返回值  例如\n",
    "print(reduce(lambda x, y : x * 10 + y, [1, 2, 3, 4]))"
   ]
  },
  {
   "cell_type": "code",
   "execution_count": 21,
   "metadata": {},
   "outputs": [
    {
     "name": "stdout",
     "output_type": "stream",
     "text": [
      "[1, 9, 15]\n"
     ]
    }
   ],
   "source": [
    "# filter \n",
    "\n",
    "def is_odd(n):\n",
    "    return n % 2 == 1\n",
    "\n",
    "# filter 将参数带入函数 如果返回True就照常返回，否者不返回\n",
    "# 类似于这样\n",
    "\n",
    "def filter(f, LIST):\n",
    "    for i in LIST:\n",
    "        if f(i):\n",
    "            yield i\n",
    "            \n",
    "print(list(filter(is_odd, [1, 2, 4, 6, 9, 10, 15])))"
   ]
  },
  {
   "cell_type": "code",
   "execution_count": 42,
   "metadata": {},
   "outputs": [
    {
     "name": "stdout",
     "output_type": "stream",
     "text": [
      "[5, 9, 12, 21, 36]\n"
     ]
    }
   ],
   "source": [
    "# sorted\n",
    "\n",
    "# 这个涉及到排序算法， 排序算法我就不写了， 用sorted函数来代替\n",
    "# 类似于这样\n",
    "def sorted1(LIST, key=f):\n",
    "    LIST_01 = [key(i) for i in LIST]\n",
    "    return sorted(LIST_01)\n",
    "\n",
    "print(sorted([36, 5, -12, 9, -21]))\n",
    "print(sorted1([36, 5, -12, 9, -21], key=abs))"
   ]
  },
  {
   "cell_type": "code",
   "execution_count": 43,
   "metadata": {},
   "outputs": [
    {
     "data": {
      "text/plain": [
       "25"
      ]
     },
     "execution_count": 43,
     "metadata": {},
     "output_type": "execute_result"
    }
   ],
   "source": [
    "# 方法里定义方法 再返回方法   闭包\n",
    "\n",
    "def lazy_sum(*args):\n",
    "    def sum():\n",
    "        ax = 0\n",
    "        for n in args:\n",
    "            ax = ax + n\n",
    "        return ax\n",
    "    return sum\n",
    "\n",
    "f = lazy_sum(1, 3, 5, 7, 9)\n",
    "f()"
   ]
  }
 ],
 "metadata": {
  "kernelspec": {
   "display_name": "Python 3",
   "language": "python",
   "name": "python3"
  },
  "language_info": {
   "codemirror_mode": {
    "name": "ipython",
    "version": 3
   },
   "file_extension": ".py",
   "mimetype": "text/x-python",
   "name": "python",
   "nbconvert_exporter": "python",
   "pygments_lexer": "ipython3",
   "version": "3.6.5"
  }
 },
 "nbformat": 4,
 "nbformat_minor": 2
}
