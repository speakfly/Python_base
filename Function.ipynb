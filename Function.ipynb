{
 "cells": [
  {
   "cell_type": "code",
   "execution_count": 2,
   "metadata": {},
   "outputs": [],
   "source": [
    "# 参数：关键字参数， 默认参数\n",
    "def describe_pet(pet_name, animal_type='dog'):\n",
    "    pass"
   ]
  },
  {
   "cell_type": "code",
   "execution_count": null,
   "metadata": {},
   "outputs": [],
   "source": [
    "# 禁止函数修改列表\n",
    "\n",
    "function_name(list_name[:])"
   ]
  },
  {
   "cell_type": "code",
   "execution_count": 5,
   "metadata": {},
   "outputs": [
    {
     "name": "stdout",
     "output_type": "stream",
     "text": [
      "('pepperoni',)\n",
      "<class 'tuple'>\n",
      "('mushrooms', 'green peppers', 'extra cheese')\n",
      "<class 'tuple'>\n"
     ]
    }
   ],
   "source": [
    "# 传递任意数量的参数\n",
    "\n",
    "def make_pizza(*toppings):         #*toppings 定义了一个元组变量\n",
    "    \"\"\"打印顾客点的所有配料\"\"\"\n",
    "    print(toppings)\n",
    "    print(type(toppings))\n",
    "    \n",
    "make_pizza('pepperoni')\n",
    "make_pizza('mushrooms', 'green peppers', 'extra cheese')"
   ]
  },
  {
   "cell_type": "code",
   "execution_count": 6,
   "metadata": {},
   "outputs": [
    {
     "name": "stdout",
     "output_type": "stream",
     "text": [
      "{'fist_name': 'albert', 'last_name': 'einstein', 'localtion': 'princeton', 'field': 'physics'}\n"
     ]
    }
   ],
   "source": [
    "# 使用任意数量的关键字实参\n",
    "def build_profile(first, last, **user_info):\n",
    "    \"\"\"创建一个字典， 其中包含我们知道的有关用户的一切\"\"\"\n",
    "    profile = {}\n",
    "    profile['fist_name'] = first\n",
    "    profile['last_name'] = last\n",
    "    for key, value in user_info.items():\n",
    "        profile[key] = value\n",
    "        \n",
    "    return profile\n",
    "\n",
    "user_profile = build_profile('albert', 'einstein', localtion='princeton', field='physics')\n",
    "print(user_profile)"
   ]
  }
 ],
 "metadata": {
  "kernelspec": {
   "display_name": "Python 3",
   "language": "python",
   "name": "python3"
  },
  "language_info": {
   "codemirror_mode": {
    "name": "ipython",
    "version": 3
   },
   "file_extension": ".py",
   "mimetype": "text/x-python",
   "name": "python",
   "nbconvert_exporter": "python",
   "pygments_lexer": "ipython3",
   "version": "3.6.5"
  }
 },
 "nbformat": 4,
 "nbformat_minor": 2
}
