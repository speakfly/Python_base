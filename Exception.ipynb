{
 "cells": [
  {
   "cell_type": "code",
   "execution_count": 1,
   "metadata": {},
   "outputs": [
    {
     "name": "stdout",
     "output_type": "stream",
     "text": [
      "Yor can't divide by zero\n"
     ]
    }
   ],
   "source": [
    "# 使用try-except\n",
    "\n",
    "try:\n",
    "    print(5/0)\n",
    "    \n",
    "except ZeroDivisionError:\n",
    "    print(\"Yor can't divide by zero\")"
   ]
  },
  {
   "cell_type": "code",
   "execution_count": 3,
   "metadata": {},
   "outputs": [
    {
     "name": "stdout",
     "output_type": "stream",
     "text": [
      "Sorry, the filealice.txtdoes not exist\n"
     ]
    }
   ],
   "source": [
    "filename = 'alice.txt'\n",
    "\n",
    "try :\n",
    "    with open(filename) as fp:\n",
    "        contents = fp.read()\n",
    "except FileNotFoundError:\n",
    "    msg = \"Sorry, the file\" + filename + \"does not exist\"\n",
    "    print(msg)"
   ]
  }
 ],
 "metadata": {
  "kernelspec": {
   "display_name": "Python 3",
   "language": "python",
   "name": "python3"
  },
  "language_info": {
   "codemirror_mode": {
    "name": "ipython",
    "version": 3
   },
   "file_extension": ".py",
   "mimetype": "text/x-python",
   "name": "python",
   "nbconvert_exporter": "python",
   "pygments_lexer": "ipython3",
   "version": "3.6.5"
  }
 },
 "nbformat": 4,
 "nbformat_minor": 2
}
