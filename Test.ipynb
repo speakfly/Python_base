{
 "cells": [
  {
   "cell_type": "code",
   "execution_count": null,
   "metadata": {},
   "outputs": [],
   "source": [
    "import unittest\n",
    "from name_function import get_formatted_name\n",
    "\n",
    "class NamesTestCase(unittest.TestCase):\n",
    "    \"\"\"测试name_function.py\"\"\"\n",
    "    \n",
    "    def test_first_last_name(self):\n",
    "        \"\"\"能够正确处理像Janis Joplin这样的名字吗？\"\"\"\n",
    "        formatted_name = get_formatted_name('janis', 'joplin')\n",
    "        self.assertEqual(formatted_name, 'Janis Joplin')\n",
    "        \n",
    "unittest.main()\n",
    "\n",
    "\n",
    "# 发现在jupyter notebook 运行不了 unittest\n",
    "\n",
    "# 转移到 test.py 文件运行了\n",
    "\n",
    "\n",
    "# clas_name 可以随意  但是 类必须继承 unittest.TestCase 方法名开头必须是test  测试的时候是 unittest.main()\n",
    "\n",
    "# unittest 是 用于测试变量值的  方法的返回值  类的变量\n",
    "# assertEqual(a, b)\n",
    "# assertNotEqual(a, b)\n",
    "# assertTrue(x)\n",
    "# assertFalse(x)\n",
    "# assertIn(item, list)\n",
    "# assertNotIn(item, list)\n",
    "\n",
    "\n",
    "# 其中 unittest 中还有setUp(self) 方法  可以在该类中实例化测试类 和 初始化其他变量"
   ]
  }
 ],
 "metadata": {
  "kernelspec": {
   "display_name": "Python 3",
   "language": "python",
   "name": "python3"
  },
  "language_info": {
   "codemirror_mode": {
    "name": "ipython",
    "version": 3
   },
   "file_extension": ".py",
   "mimetype": "text/x-python",
   "name": "python",
   "nbconvert_exporter": "python",
   "pygments_lexer": "ipython3",
   "version": "3.6.5"
  }
 },
 "nbformat": 4,
 "nbformat_minor": 2
}
